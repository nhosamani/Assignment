{
  "nbformat": 4,
  "nbformat_minor": 0,
  "metadata": {
    "colab": {
      "provenance": [],
      "toc_visible": true,
      "mount_file_id": "19Dg328lGYj0dp6tF89IzUWfBaSLmn-Ay",
      "authorship_tag": "ABX9TyOxhucUDXw5X+GgRmFHZRp9",
      "include_colab_link": true
    },
    "kernelspec": {
      "name": "python3",
      "display_name": "Python 3"
    },
    "language_info": {
      "name": "python"
    }
  },
  "cells": [
    {
      "cell_type": "markdown",
      "metadata": {
        "id": "view-in-github",
        "colab_type": "text"
      },
      "source": [
        "<a href=\"https://colab.research.google.com/github/nhosamani/Assignment/blob/main/Untitled16.ipynb\" target=\"_parent\"><img src=\"https://colab.research.google.com/assets/colab-badge.svg\" alt=\"Open In Colab\"/></a>"
      ]
    },
    {
      "cell_type": "code",
      "execution_count": 9,
      "metadata": {
        "id": "NS8adbedH6Zy"
      },
      "outputs": [],
      "source": [
        "#You work in a news agency & are responsible for identifying the most important topic for writing articles by your content team. Develop a Jupyter Notebook which on executing every time shows top 10 Twitter trending topics in India in the last 24 hours. Hints: Connecting with Twitter API. Bringing Dashboard-like behaviour in Jupyter notebook. Please note:Visualisation is mandatory. You will receive 0 marks if you do not add visualisation."
      ]
    },
    {
      "cell_type": "code",
      "source": [
        "import tweepy as tw\n"
      ],
      "metadata": {
        "id": "VFGJX1hQhxEU"
      },
      "execution_count": 22,
      "outputs": []
    },
    {
      "cell_type": "code",
      "source": [
        "consumer_key=\"ofWTTNECzNGBBfNzhTvYBxCiN\"\n",
        "consumer_secret=\"J3omDbtjTLKuPjC6KEebxWen90bOZfhWstgNaLZXjBheUNVcWU\"\n",
        "access_token=\"1597149590096031747-9dkpTagjXVlOXWPYJAYOeX64m0Gg6p\"\n",
        "access_token_secret=\"qhgEE2z1sF0ggpGiA6xYMbXM2ytd9PU2Zvwd1LZIRqjbC\""
      ],
      "metadata": {
        "id": "1Spz4zw0u_au"
      },
      "execution_count": 21,
      "outputs": []
    },
    {
      "cell_type": "code",
      "source": [
        "auth = tw.OAuthHandler(consumer_key, consumer_secret) \n",
        "auth.set_access_token(access_token, access_token_secret) \n",
        "api = tw.API(auth) "
      ],
      "metadata": {
        "id": "q4VL6QTDu_eK"
      },
      "execution_count": 23,
      "outputs": []
    },
    {
      "cell_type": "code",
      "source": [
        "def get_woeid(place):\n",
        "    '''Get woeid by location'''\n",
        "    try:\n",
        "        trends = api.trends_available()\n",
        "        for val in trends:\n",
        "            if (val['name'].lower() == place.lower()):\n",
        "                return(val['woeid']) \n",
        "        print('Location Not Found')\n",
        "    except Exception as e:\n",
        "        print('Exception:',e)\n",
        "        return(0)\n",
        "      \n",
        "           \n",
        "get_woeid('India')"
      ],
      "metadata": {
        "colab": {
          "base_uri": "https://localhost:8080/"
        },
        "id": "3EjU4b9MH8RN",
        "outputId": "d6b29024-9a76-4369-edb1-c566a6e5aefc"
      },
      "execution_count": 24,
      "outputs": [
        {
          "output_type": "stream",
          "name": "stdout",
          "text": [
            "Exception: [{'message': 'You currently have Essential access which includes access to Twitter API v2 endpoints only. If you need access to this endpoint, you’ll need to apply for Elevated access via the Developer Portal. You can learn more here: https://developer.twitter.com/en/docs/twitter-api/getting-started/about-twitter-api#v2-access-leve', 'code': 453}]\n"
          ]
        },
        {
          "output_type": "execute_result",
          "data": {
            "text/plain": [
              "0"
            ]
          },
          "metadata": {},
          "execution_count": 24
        }
      ]
    },
    {
      "cell_type": "code",
      "source": [
        "def get_trends_by_location(loc_id,count):\n",
        "    '''Get Trending Tweets by Location'''\n",
        "    \n",
        "    try:\n",
        "        trends = api.trends_place(loc_id)\n",
        "        df = pd.DataFrame([trending['name'],  trending['tweet_volume'], iso639.to_name(detect(trending['name']))] for trending in trends[0]['trends'])\n",
        "        df.columns = ['Trends','Volume','Language']\n",
        "        #df = df.sort_values('Volume', ascending = False)\n",
        "        return(df[:count])\n",
        "    except Exception as e:\n",
        "        print(\"An exception occurred\",e)\n",
        "        \n",
        "        \n",
        "df_india_trends = get_trends_by_location(23424848, 10)\n",
        "df_india_trends"
      ],
      "metadata": {
        "colab": {
          "base_uri": "https://localhost:8080/"
        },
        "id": "WU9FWwxzXl0i",
        "outputId": "6a6d4bfa-41ba-48bd-fdc5-d302134a8b83"
      },
      "execution_count": 25,
      "outputs": [
        {
          "output_type": "stream",
          "name": "stdout",
          "text": [
            "An exception occurred [{'message': 'You currently have Essential access which includes access to Twitter API v2 endpoints only. If you need access to this endpoint, you’ll need to apply for Elevated access via the Developer Portal. You can learn more here: https://developer.twitter.com/en/docs/twitter-api/getting-started/about-twitter-api#v2-access-leve', 'code': 453}]\n"
          ]
        }
      ]
    },
    {
      "cell_type": "code",
      "source": [],
      "metadata": {
        "id": "fXgSmNMwXxIr"
      },
      "execution_count": null,
      "outputs": []
    },
    {
      "cell_type": "code",
      "source": [],
      "metadata": {
        "id": "C1ZrXfiOy_UV"
      },
      "execution_count": null,
      "outputs": []
    },
    {
      "cell_type": "code",
      "source": [
        "\n"
      ],
      "metadata": {
        "id": "H0h5IrBRX-C0"
      },
      "execution_count": 10,
      "outputs": []
    },
    {
      "cell_type": "code",
      "source": [],
      "metadata": {
        "id": "h8ISxlbgX-R-"
      },
      "execution_count": 10,
      "outputs": []
    },
    {
      "cell_type": "code",
      "source": [],
      "metadata": {
        "id": "UgUjT255H8Uc"
      },
      "execution_count": 10,
      "outputs": []
    },
    {
      "cell_type": "code",
      "source": [],
      "metadata": {
        "id": "UNRScG4qH8Xk"
      },
      "execution_count": 10,
      "outputs": []
    },
    {
      "cell_type": "code",
      "source": [],
      "metadata": {
        "id": "51OTQM3JH8a4"
      },
      "execution_count": 10,
      "outputs": []
    },
    {
      "cell_type": "code",
      "source": [],
      "metadata": {
        "id": "WZPICoWlH8d9"
      },
      "execution_count": 10,
      "outputs": []
    },
    {
      "cell_type": "code",
      "source": [],
      "metadata": {
        "id": "aa-tDdy-H8hJ"
      },
      "execution_count": 10,
      "outputs": []
    },
    {
      "cell_type": "code",
      "source": [],
      "metadata": {
        "id": "mqLwXpOKH8kl"
      },
      "execution_count": 10,
      "outputs": []
    },
    {
      "cell_type": "code",
      "source": [],
      "metadata": {
        "id": "aV8vWu6sH8nm"
      },
      "execution_count": 10,
      "outputs": []
    },
    {
      "cell_type": "code",
      "source": [],
      "metadata": {
        "id": "7A9-g9UqH8qy"
      },
      "execution_count": 10,
      "outputs": []
    },
    {
      "cell_type": "code",
      "source": [],
      "metadata": {
        "id": "YaYXhX7hH8t6"
      },
      "execution_count": 10,
      "outputs": []
    },
    {
      "cell_type": "code",
      "source": [],
      "metadata": {
        "id": "W-ejN-nhH8xT"
      },
      "execution_count": 10,
      "outputs": []
    },
    {
      "cell_type": "code",
      "source": [],
      "metadata": {
        "id": "i-5DIrF7H80I"
      },
      "execution_count": 10,
      "outputs": []
    },
    {
      "cell_type": "code",
      "source": [],
      "metadata": {
        "id": "BsHcd8HhH83j"
      },
      "execution_count": 10,
      "outputs": []
    }
  ]
}